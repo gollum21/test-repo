{
 "cells": [
  {
   "cell_type": "markdown",
   "metadata": {
    "id": "uqN8pEy33NHy"
   },
   "source": [
    "[<img align=\"right\" width=\"400\" height=\"100\" src=\"https://www.tu-braunschweig.de/typo3conf/ext/tu_braunschweig/Resources/Public/Images/Logos/tu_braunschweig_logo.svg\">](https://www.tu-braunschweig.de/en/)\n",
    "\n",
    "[Mehdi Maboudi](https://www.tu-braunschweig.de/en/igp/staff/mehdi-maboudi) \\([m.maboudi@tu-bs.de](m.maboudi@tu-bs.de))\n",
    "\n",
    "[Technical University of Braunschweig](https://www.tu-braunschweig.de/en/)  \n",
    "[Institute of Geodesy and Photogrammetry](https://www.tu-braunschweig.de/igp)  \n",
    "\n",
    "\n",
    "**Image classification using MLP**  "
   ]
  },
  {
   "cell_type": "markdown",
   "metadata": {
    "id": "PxTAZ6vC9Dbx"
   },
   "source": [
    "Task 1. Implement an MLP on UCM dataset  \n",
    "Task 2.   resize the images with the factor of 4(images'size = 64) and check its effect on the results.  \n",
    "Task 3.   :What are your suggestions for improving the results.  \n"
   ]
  },
  {
   "cell_type": "markdown",
   "metadata": {
    "id": "OV0ST0il-QsY"
   },
   "source": [
    "**UC Merced dataset**  \n",
    "\n",
    "Some notes about [UC Merced dataset](http://weegee.vision.ucmerced.edu/datasets/landuse.html):  \n",
    "This dataset is used in the folowing paper:    \n",
    "\n",
    "[\"Bag-Of-Visual-Words and Spatial Extensions for Land-Use Classification\" Yi Yang and Shawn Newsam,2010](https://www.researchgate.net/profile/Shawn-Newsam/publication/221589425_Bag-of-visual-words_and_spatial_extensions_for_land-use_classification/links/09e4150e4957709cf7000000/Bag-of-visual-words-and-spatial-extensions-for-land-use-classification.pdf)\n",
    "\n",
    "\n",
    "\n",
    "UCMerced dataset contains 21,00 images.\n",
    "This is a 21 class land use image dataset meant for research purposes.\n",
    "\n",
    "There are 100 images for each of the classe.\n",
    "\n",
    "Each image measures 256x256 pixels (There are some exceptions which you should manage them).  \n",
    "\n",
    "The ground sampling distance (pixel resolution on the ground) of this public domain imagery is 1 foot.\n",
    "\n",
    "\n"
   ]
  },
  {
   "cell_type": "markdown",
   "metadata": {
    "id": "0-qTRFV63UiY"
   },
   "source": [
    "#Setup"
   ]
  },
  {
   "cell_type": "code",
   "execution_count": null,
   "metadata": {
    "id": "75EW49tN3iZF"
   },
   "outputs": [],
   "source": [
    "#Load the libraries which you need\n",
    "import numpy as np\n",
    "import matplotlib.pyplot as plt\n",
    "\n",
    "\n",
    "seed = 42"
   ]
  },
  {
   "cell_type": "markdown",
   "metadata": {
    "id": "CN6-2N1p3lEZ"
   },
   "source": [
    "##Mounting Google Drive locally"
   ]
  },
  {
   "cell_type": "code",
   "execution_count": null,
   "metadata": {
    "colab": {
     "base_uri": "https://localhost:8080/"
    },
    "id": "RvpMzgZ_O1UB",
    "outputId": "c410341f-10ff-4154-c74a-09d1ef058efc"
   },
   "outputs": [],
   "source": [
    "from google.colab import drive\n",
    "drive.mount('/content/drive', force_remount=True)"
   ]
  },
  {
   "cell_type": "markdown",
   "metadata": {
    "id": "q3GNex2G4gDL"
   },
   "source": [
    "Download the data in main_path...data_folder"
   ]
  },
  {
   "cell_type": "code",
   "execution_count": 2,
   "metadata": {
    "colab": {
     "base_uri": "https://localhost:8080/"
    },
    "id": "EHUER0PM3sTq",
    "outputId": "986111c7-a3bf-4870-8f3a-dc27d1be2135"
   },
   "outputs": [
    {
     "name": "stdout",
     "output_type": "stream",
     "text": [
      "[Errno 2] No such file or directory: './drive/MyDrive/UC_Merced'\n",
      "/content\n"
     ]
    }
   ],
   "source": [
    "main_path = \"./drive/MyDrive/UC_Merced\"  # change it\n",
    "data_folder = \"Data/Data_Tensorflow\" # change it\n",
    "\n",
    "%cd $main_path  "
   ]
  },
  {
   "cell_type": "markdown",
   "metadata": {
    "id": "SciFrkocMdgu"
   },
   "source": [
    "# Loading UC Merced dataset"
   ]
  },
  {
   "cell_type": "code",
   "execution_count": 3,
   "metadata": {
    "id": "i9OaXELb4uga"
   },
   "outputs": [],
   "source": [
    "# Load the dataset and consider 20% of it as test set"
   ]
  },
  {
   "cell_type": "code",
   "execution_count": null,
   "metadata": {
    "id": "vhEXlT-G4tsf"
   },
   "outputs": [],
   "source": [
    "# As a sanity check of loading the dataset, we print out the size of the training and test data.\n",
    "print('Training data shape: ', X_train.shape,X_train.dtype)\n",
    "print('Training labels shape: ', y_train.shape,y_train.dtype)\n",
    "print('Test data shape: ', X_test.shape,X_test.dtype)\n",
    "print('Test labels shape: ', y_test.shape,y_test.dtype)\n",
    "print('\\nclass_names',class_names)"
   ]
  },
  {
   "cell_type": "markdown",
   "metadata": {
    "id": "2GFMUE-C46-X"
   },
   "source": []
  },
  {
   "cell_type": "markdown",
   "metadata": {
    "id": "EUBZGZv4nVd6"
   },
   "source": [
    "#Visualize the dataset"
   ]
  },
  {
   "cell_type": "markdown",
   "metadata": {
    "id": "2GNOEIrH7pXi"
   },
   "source": [
    "Feel free to use the following cell or writing your own code"
   ]
  },
  {
   "cell_type": "code",
   "execution_count": null,
   "metadata": {
    "id": "1PfuUpW6493h"
   },
   "outputs": [],
   "source": [
    "# Visualize some samples from the train set.\n",
    "# We show random samples of training images from each class.\n",
    "num_classes = len(class_names)\n",
    "samples_per_class = 1\n",
    "num_rows,num_cols = 3,7\n",
    "fig,ax = plt.subplots(num_rows,num_cols,figsize=(32,18))\n",
    "\n",
    "for y, cls in enumerate(class_names):\n",
    "    idx = np.flatnonzero(y_train == y)\n",
    "    idx = np.random.choice(idx)\n",
    "    plt_row = y//num_cols\n",
    "    plt_col = y%num_cols\n",
    "    plt.sca(ax[plt_row,plt_col])\n",
    "    plt.imshow(X_train[idx].astype('uint8'))\n",
    "    plt.axis('off')\n",
    "    plt.title(cls+' ('+str(y)+')',size=24)\n",
    "plt.tight_layout()    \n",
    "plt.show()"
   ]
  },
  {
   "cell_type": "markdown",
   "metadata": {
    "id": "bBVQTi3M5Iw-"
   },
   "source": [
    "#Model"
   ]
  },
  {
   "cell_type": "markdown",
   "metadata": {
    "id": "0uieGOeN5WJG"
   },
   "source": [
    "##Build the model"
   ]
  },
  {
   "cell_type": "code",
   "execution_count": 7,
   "metadata": {
    "id": "DlJCeSqZ54_v"
   },
   "outputs": [],
   "source": [
    "# Create an MLP\n",
    "# feel free about settings."
   ]
  },
  {
   "cell_type": "code",
   "execution_count": 6,
   "metadata": {
    "id": "xzRdOw6Z5fPw"
   },
   "outputs": [],
   "source": [
    "# Display network architecture"
   ]
  },
  {
   "cell_type": "code",
   "execution_count": null,
   "metadata": {
    "id": "tJIROPJs5ncS"
   },
   "outputs": [],
   "source": [
    "# Evaluate the model before any training on training (and/or validation set)"
   ]
  },
  {
   "cell_type": "markdown",
   "metadata": {
    "id": "lX_CqKIJ6BCj"
   },
   "source": [
    "##Train the Model"
   ]
  },
  {
   "cell_type": "code",
   "execution_count": null,
   "metadata": {
    "id": "i8_Z2OLi6Jgh"
   },
   "outputs": [],
   "source": [
    "# you can have one or more cell for training the model and hyperparameter tunning"
   ]
  },
  {
   "cell_type": "code",
   "execution_count": null,
   "metadata": {
    "id": "cm9Ycw8T6C2Y"
   },
   "outputs": [],
   "source": [
    "# Evaluate the model after training on test set"
   ]
  },
  {
   "cell_type": "markdown",
   "metadata": {
    "id": "-VL6wcwu7_3F"
   },
   "source": [
    "Task 2:\n",
    "resize the images with the factor of 4 (images'size =  64) and check its effect on the results.  \n",
    "Please write your finding clearly in a text cell"
   ]
  },
  {
   "cell_type": "code",
   "execution_count": null,
   "metadata": {
    "id": "cjaFNYac-vFT"
   },
   "outputs": [],
   "source": [
    "# you can have one or more cell for this task"
   ]
  },
  {
   "cell_type": "markdown",
   "metadata": {
    "id": "kYGRUGKG8Hlv"
   },
   "source": [
    "Task 3:What are your suggestions for improving the results.  \n",
    "You do not have to implement it. But if you do, would be perfect."
   ]
  },
  {
   "cell_type": "code",
   "execution_count": null,
   "metadata": {
    "id": "BfqtzmuM-zb5"
   },
   "outputs": [],
   "source": [
    "# you can have one or more cell for this task"
   ]
  }
 ],
 "metadata": {
  "colab": {
   "collapsed_sections": [],
   "name": "MLP_UCM_4Student.ipynb",
   "provenance": [],
   "toc_visible": true
  },
  "kernelspec": {
   "display_name": "Python 3",
   "language": "python",
   "name": "python3"
  },
  "language_info": {
   "codemirror_mode": {
    "name": "ipython",
    "version": 3
   },
   "file_extension": ".py",
   "mimetype": "text/x-python",
   "name": "python",
   "nbconvert_exporter": "python",
   "pygments_lexer": "ipython3",
   "version": "3.8.5"
  }
 },
 "nbformat": 4,
 "nbformat_minor": 1
}
